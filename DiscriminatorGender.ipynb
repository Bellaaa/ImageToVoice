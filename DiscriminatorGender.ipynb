{
  "nbformat": 4,
  "nbformat_minor": 0,
  "metadata": {
    "colab": {
      "name": "DiscriminatorGender.ipynb",
      "provenance": []
    },
    "kernelspec": {
      "name": "python3",
      "display_name": "Python 3"
    },
    "accelerator": "GPU"
  },
  "cells": [
    {
      "cell_type": "code",
      "metadata": {
        "id": "TnqD5FcamMsV",
        "colab_type": "code",
        "outputId": "e011d395-9bf5-4f4e-f31c-941ee00fca79",
        "colab": {
          "base_uri": "https://localhost:8080/",
          "height": 139
        }
      },
      "source": [
        "from google.colab import drive\n",
        "drive.mount('/content/drive')\n",
        "% cd '/content/drive/My Drive/785_proj/'"
      ],
      "execution_count": 1,
      "outputs": [
        {
          "output_type": "stream",
          "text": [
            "Go to this URL in a browser: https://accounts.google.com/o/oauth2/auth?client_id=947318989803-6bn6qk8qdgf4n4g3pfee6491hc0brc4i.apps.googleusercontent.com&redirect_uri=urn%3Aietf%3Awg%3Aoauth%3A2.0%3Aoob&scope=email%20https%3A%2F%2Fwww.googleapis.com%2Fauth%2Fdocs.test%20https%3A%2F%2Fwww.googleapis.com%2Fauth%2Fdrive%20https%3A%2F%2Fwww.googleapis.com%2Fauth%2Fdrive.photos.readonly%20https%3A%2F%2Fwww.googleapis.com%2Fauth%2Fpeopleapi.readonly&response_type=code\n",
            "\n",
            "Enter your authorization code:\n",
            "··········\n",
            "Mounted at /content/drive\n",
            "/content/drive/My Drive/785_proj\n"
          ],
          "name": "stdout"
        }
      ]
    },
    {
      "cell_type": "code",
      "metadata": {
        "id": "2xiIGEKolis9",
        "colab_type": "code",
        "colab": {}
      },
      "source": [
        "import torch\n",
        "from torchvision import datasets\n",
        "import torchvision.transforms as transforms"
      ],
      "execution_count": 0,
      "outputs": []
    },
    {
      "cell_type": "code",
      "metadata": {
        "id": "cFjT4PehDd0F",
        "colab_type": "code",
        "outputId": "e46cee25-4295-455f-dac3-10cafcbbd832",
        "colab": {
          "base_uri": "https://localhost:8080/",
          "height": 34
        }
      },
      "source": [
        "device = torch.device('cuda' if torch.cuda.is_available() else 'cpu')\n",
        "device"
      ],
      "execution_count": 3,
      "outputs": [
        {
          "output_type": "execute_result",
          "data": {
            "text/plain": [
              "device(type='cuda')"
            ]
          },
          "metadata": {
            "tags": []
          },
          "execution_count": 3
        }
      ]
    },
    {
      "cell_type": "code",
      "metadata": {
        "id": "6rtcnClr0mGd",
        "colab_type": "code",
        "colab": {}
      },
      "source": [
        "# 1\n",
        "num_workers = 0\n",
        "# 2\n",
        "batch_size = 32\n",
        "# 3\n",
        "transform = transforms.Compose(\n",
        "    [transforms.Resize((64,64)),\n",
        "     transforms.ToTensor(),\n",
        "     ])\n",
        "# 4\n",
        "train_data = datasets.ImageFolder(root = 'crop_part1', transform=transform)\n",
        "train_loader = torch.utils.data.DataLoader(train_data, batch_size=batch_size, shuffle=True, num_workers=num_workers)"
      ],
      "execution_count": 0,
      "outputs": []
    },
    {
      "cell_type": "code",
      "metadata": {
        "id": "9hQTOgyy1GZd",
        "colab_type": "code",
        "outputId": "d85b1cac-bac4-46a3-9076-91aae1823012",
        "colab": {
          "base_uri": "https://localhost:8080/",
          "height": 302
        }
      },
      "source": [
        "# visualization\n",
        "import numpy as np\n",
        "import matplotlib.pyplot as plt\n",
        "\n",
        "#1 \n",
        "dataiter = iter(train_loader)\n",
        "images, labels = dataiter.next()\n",
        "\n",
        "#2\n",
        "img = images[8]\n",
        "label = labels[8]\n",
        "print(img.shape, label)\n",
        "plt.imshow(img.permute(1, 2, 0))"
      ],
      "execution_count": 5,
      "outputs": [
        {
          "output_type": "stream",
          "text": [
            "torch.Size([3, 64, 64]) tensor(1)\n"
          ],
          "name": "stdout"
        },
        {
          "output_type": "execute_result",
          "data": {
            "text/plain": [
              "<matplotlib.image.AxesImage at 0x7f66d613fef0>"
            ]
          },
          "metadata": {
            "tags": []
          },
          "execution_count": 5
        },
        {
          "output_type": "display_data",
          "data": {
            "image/png": "[encoded data removed]",
            "text/plain": [
              "<Figure size 432x288 with 1 Axes>"
            ]
          },
          "metadata": {
            "tags": []
          }
        }
      ]
    },
    {
      "cell_type": "code",
      "metadata": {
        "id": "Iv01gXJOnD4z",
        "colab_type": "code",
        "colab": {}
      },
      "source": [
        "import torch\n",
        "import torch.nn as nn\n",
        "import torch.nn.functional as F\n",
        "\n",
        "class Conv2d_bn_ReLU(nn.Module):\n",
        "    def __init__(self, in_channels, out_channels, kernel_size, stride):\n",
        "        super(Conv2d_bn_ReLU, self).__init__()\n",
        "        layers = [\n",
        "            nn.Conv2d(in_channels, out_channels, kernel_size=kernel_size, stride=stride),\n",
        "            nn.BatchNorm2d(out_channels),\n",
        "            nn.ReLU(inplace=True),\n",
        "        ]\n",
        "        self.layers = nn.Sequential(*layers)\n",
        "    def forward(self, x):\n",
        "        return self.layers(x)\n",
        "\n",
        "class GenderDiscriminator(nn.Module):\n",
        "    def __init__(self):\n",
        "        super(GenderDiscriminator, self).__init__()\n",
        "        layers = [\n",
        "            nn.Conv2d(3, 32, kernel_size=3, stride=2),\n",
        "            Conv2d_bn_ReLU(32, 64, 3, 1),\n",
        "            Conv2d_bn_ReLU(64, 128, 3, 2),\n",
        "            # Conv2d_bn_ReLU(128, 256, 3, 1),\n",
        "        ]\n",
        "        self.layers = nn.Sequential(*layers)\n",
        "        self.classifier = nn.Sequential(\n",
        "              nn.Linear(128, 2),\n",
        "              nn.Softmax(),\n",
        "        )\n",
        "        for m in self.modules():\n",
        "        \tif isinstance(m, nn.Conv2d):\n",
        "        \t\tnn.init.kaiming_normal_(m.weight, mode='fan_out', nonlinearity='relu')\n",
        "        \t\tif m.bias is not None:\n",
        "        \t\t\tnn.init.constant_(m.bias, 0)\n",
        "        \t\telif isinstance(m, nn.BatchNorm2d):\n",
        "        \t\t\tnn.init.constant_(m.weight, 1)\n",
        "        \t\t\tnn.init.constant_(m.bias, 0)\n",
        "        \t\telif nn.init.constant_(m.bias, 0):\n",
        "        \t\t\tnn.init.normal_(m.weight, 0, 0.01)\n",
        "        \t\t\tnn.init.normal_(m.weight, 0, 0.01)\n",
        "    def forward(self, x):\n",
        "        output = x\n",
        "        output = self.layers(x)\n",
        "\n",
        "        output = F.avg_pool2d(output, [output.size(2), output.size(3)])\n",
        "        output = output.reshape(output.shape[0], output.shape[1])\n",
        "\n",
        "        output = self.classifier(output)\n",
        "        return output\n",
        "\n",
        "def train(model, train_loader):\n",
        "    model.train()\n",
        "\n",
        "    for epoch in range(epochs):\n",
        "        avg_loss = 0.0\n",
        "        print('Epoch: {}\\tAcc: {:.4f}'.format(epoch+1, evaluate(model, train_loader)))\n",
        "        for batch_num, (feats, labels) in enumerate(train_loader):\n",
        "            feats, labels = feats.to(device), labels.to(device)\n",
        "\n",
        "            optimizer.zero_grad()\n",
        "            outputs = model(feats)\n",
        "\n",
        "            loss = criterion(outputs, labels.long())\n",
        "            loss.backward()\n",
        "            optimizer.step()\n",
        "            \n",
        "            avg_loss += loss.item()\n",
        "\n",
        "            if batch_num % 100 == 99:\n",
        "                print('Epoch: {}\\tBatch: {}\\tAvg-Loss: {:.4f}'.format(epoch+1, batch_num+1, avg_loss/100))\n",
        "                avg_loss = 0.0    \n",
        "            \n",
        "            torch.cuda.empty_cache()\n",
        "            del feats\n",
        "            del labels\n",
        "            del loss\n",
        "        torch.save(model, 'GD.pt')\n",
        "\n",
        "def evaluate(model, dataloader):\n",
        "    model.eval()\n",
        "    Acc = 0\n",
        "    Length = 0\n",
        "    for batch_num, (feats, labels) in enumerate(train_loader):\n",
        "        feats, labels = feats.to(device), labels\n",
        "        outputs = model(feats).to('cpu')\n",
        "        outputs = outputs.detach().numpy()\n",
        "        prediction = outputs.argmax(axis=1)\n",
        "        labels = labels.numpy()\n",
        "        a = np.zeros(len(labels))\n",
        "        a[prediction == labels] = 1\n",
        "        acc, length = np.sum(a==1), len(a)\n",
        "        Acc += acc\n",
        "        Length += length\n",
        "        \n",
        "    return Acc/Length\n",
        "\n"
      ],
      "execution_count": 0,
      "outputs": []
    },
    {
      "cell_type": "code",
      "metadata": {
        "id": "r_J_NDcjCX_7",
        "colab_type": "code",
        "outputId": "ad52e4c7-ee68-4490-e1ae-c0b4d9cf33f8",
        "colab": {
          "base_uri": "https://localhost:8080/",
          "height": 71
        }
      },
      "source": [
        "lr = 0.001\n",
        "epochs = 20\n",
        "\n",
        "model = GenderDiscriminator()\n",
        "model.to(device)\n",
        "# model = torch.load('GD.pt').to(device)\n",
        "criterion = nn.CrossEntropyLoss()\n",
        "optimizer = torch.optim.Adam(model.parameters(), lr = lr)\n",
        "\n",
        "train(model, train_loader)"
      ],
      "execution_count": 0,
      "outputs": [
        {
          "output_type": "stream",
          "text": [
            "/usr/local/lib/python3.6/dist-packages/torch/nn/modules/container.py:92: UserWarning: Implicit dimension choice for softmax has been deprecated. Change the call to include dim=X as an argument.\n",
            "  input = module(input)\n"
          ],
          "name": "stderr"
        }
      ]
    }
  ]
}