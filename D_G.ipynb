{
  "nbformat": 4,
  "nbformat_minor": 0,
  "metadata": {
    "colab": {
      "name": "D_G.ipynb",
      "provenance": [],
      "collapsed_sections": []
    },
    "kernelspec": {
      "name": "python3",
      "display_name": "Python 3"
    }
  },
  "cells": [
    {
      "cell_type": "code",
      "metadata": {
        "id": "3yxurUg4VXbV",
        "colab_type": "code",
        "colab": {}
      },
      "source": [
        "import torch\n",
        "import torch.nn as nn\n",
        "import torch.nn.functional as F\n",
        "\n",
        "class Conv2d_bn_ReLU(nn.Module):\n",
        "    def __init__(self, in_channels, out_channels, kernel_size, stride):\n",
        "        super(Conv2d_bn_ReLU, self).__init__()\n",
        "        layers = [\n",
        "            nn.Conv2d(in_channels, out_channels, kernel_size=kernel_size, stride=stride),\n",
        "            nn.BatchNorm2d(out_channels),\n",
        "            nn.ReLU(inplace=True),\n",
        "        ]\n",
        "        self.layers = nn.Sequential(*layers)\n",
        "    def forward(self, x):\n",
        "        return self.layers(x)\n",
        "\n",
        "class GenderDiscriminator(nn.Module):\n",
        "    def __init__(self):\n",
        "        super(GenderDiscriminator, self).__init__()\n",
        "        layers = [\n",
        "            nn.Conv2d(3, 32, kernel_size=3, stride=2),\n",
        "            Conv2d_bn_ReLU(32, 64, 3, 1),\n",
        "            Conv2d_bn_ReLU(64, 128, 3, 2),\n",
        "            # Conv2d_bn_ReLU(128, 256, 3, 1),\n",
        "        ]\n",
        "        self.layers = nn.Sequential(*layers)\n",
        "        self.classifier = nn.Sequential(\n",
        "              nn.Linear(128, 2),\n",
        "              nn.Softmax(),\n",
        "        )\n",
        "        for m in self.modules():\n",
        "        \tif isinstance(m, nn.Conv2d):\n",
        "        \t\tnn.init.kaiming_normal_(m.weight, mode='fan_out', nonlinearity='relu')\n",
        "        \t\tif m.bias is not None:\n",
        "        \t\t\tnn.init.constant_(m.bias, 0)\n",
        "        \t\telif isinstance(m, nn.BatchNorm2d):\n",
        "        \t\t\tnn.init.constant_(m.weight, 1)\n",
        "        \t\t\tnn.init.constant_(m.bias, 0)\n",
        "        \t\telif nn.init.constant_(m.bias, 0):\n",
        "        \t\t\tnn.init.normal_(m.weight, 0, 0.01)\n",
        "        \t\t\tnn.init.normal_(m.weight, 0, 0.01)\n",
        "    def forward(self, x):\n",
        "        output = x\n",
        "        output = self.layers(x)\n",
        "\n",
        "        output = F.avg_pool2d(output, [output.size(2), output.size(3)])\n",
        "        output = output.reshape(output.shape[0], output.shape[1])\n",
        "\n",
        "        output = self.classifier(output)\n",
        "        return output"
      ],
      "execution_count": 0,
      "outputs": []
    }
  ]
}